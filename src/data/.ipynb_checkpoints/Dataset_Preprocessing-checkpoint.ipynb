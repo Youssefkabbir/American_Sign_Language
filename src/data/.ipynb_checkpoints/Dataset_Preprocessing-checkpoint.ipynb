{
 "cells": [
  {
   "cell_type": "code",
   "execution_count": 2,
   "id": "6949a632",
   "metadata": {},
   "outputs": [
    {
     "name": "stdout",
     "output_type": "stream",
     "text": [
      "the cell runing without Error\n"
     ]
    }
   ],
   "source": [
    "import os\n",
    "import pandas as pd\n",
    "#we give the path of our dataset which contains the images of each person\n",
    "def transformt_images_to_csv(path_images,path_csv):\n",
    "    train_data_dir=path_images\n",
    "    #we create the list class_name and the list Predectors\n",
    "    class_name = []\n",
    "    Predectors = []\n",
    "    #we used variable to see the number of samples of each class\n",
    "    i=0\n",
    "    #we will loop in all the folders that we in the path train_data_dir\n",
    "    folders=os.listdir(train_data_dir)\n",
    "    for class_dir in folders:\n",
    "        i=0\n",
    "        print(class_dir)    \n",
    "        for image_name in os.listdir(os.path.join(train_data_dir, class_dir)):\n",
    "            path_image=os.path.join(train_data_dir,class_dir, image_name)\n",
    "            #we add each class that we find in our dataset to the list Y           \n",
    "            class_name.append(class_dir)\n",
    "            #we add each path of each image that we find in our dataset to the list Z         \n",
    "            Predectors.append(path_image)\n",
    "            i+=1\n",
    "        #we display the number of samples of each subfolder\n",
    "        print(i)\n",
    "\n",
    "    #\n",
    "    label = pd.DataFrame(class_name,columns=['Classes']) \n",
    "    path = pd.DataFrame(Predectors,columns=['Path']) \n",
    "    result2 = pd.merge(path,label,left_index=True, right_index=True)\n",
    "    #on transforme notre data en  format .csv\n",
    "    result2.to_csv (path_csv,index = None, header=True)\n",
    "print('the cell runing without Error')"
   ]
  },
  {
   "cell_type": "code",
   "execution_count": 3,
   "id": "20dcd927",
   "metadata": {},
   "outputs": [
    {
     "name": "stdout",
     "output_type": "stream",
     "text": [
      "ya\n",
      "780\n",
      "yab\n",
      "780\n",
      "yach\n",
      "780\n",
      "yad\n",
      "780\n",
      "yadd\n",
      "780\n",
      "yae\n",
      "780\n",
      "yaf\n",
      "780\n",
      "yag\n",
      "780\n",
      "yagh\n",
      "780\n",
      "yagw\n",
      "780\n",
      "yah\n",
      "780\n",
      "yahh\n",
      "780\n",
      "yaj\n",
      "780\n",
      "yak\n",
      "780\n",
      "yakw\n",
      "780\n",
      "yal\n",
      "780\n",
      "yam\n",
      "780\n",
      "yan\n",
      "780\n",
      "yaq\n",
      "780\n",
      "yar\n",
      "780\n",
      "yarr\n",
      "780\n",
      "yas\n",
      "780\n",
      "yass\n",
      "780\n",
      "yat\n",
      "780\n",
      "yatt\n",
      "780\n",
      "yaw\n",
      "780\n",
      "yax\n",
      "780\n",
      "yay\n",
      "780\n",
      "yaz\n",
      "780\n",
      "yazz\n",
      "780\n",
      "yey\n",
      "780\n",
      "yi\n",
      "780\n",
      "yu\n",
      "780\n"
     ]
    }
   ],
   "source": [
    "path_images=r\"C:\\Users\\kabir\\Desktop\\Projects\\American_Sign_Language\\data\\raw\\Data\\asl_alphabet_train\"\n",
    "path_csv=r'C:\\Users\\kabir\\Desktop\\Projects\\American_Sign_Language\\data\\processed\\Data.csv'\n",
    "transformt_images_to_csv(path_images,path_csv)\n",
    "#dataset=pd.read_csv(os.path.join(os.path.dirname(__file__), \"resources\\Data\\Social_Network_Ads.csv\"))\n"
   ]
  },
  {
   "cell_type": "code",
   "execution_count": null,
   "id": "ea09aea1",
   "metadata": {},
   "outputs": [],
   "source": []
  }
 ],
 "metadata": {
  "kernelspec": {
   "display_name": "Python 3 (ipykernel)",
   "language": "python",
   "name": "python3"
  },
  "language_info": {
   "codemirror_mode": {
    "name": "ipython",
    "version": 3
   },
   "file_extension": ".py",
   "mimetype": "text/x-python",
   "name": "python",
   "nbconvert_exporter": "python",
   "pygments_lexer": "ipython3",
   "version": "3.9.17"
  }
 },
 "nbformat": 4,
 "nbformat_minor": 5
}
