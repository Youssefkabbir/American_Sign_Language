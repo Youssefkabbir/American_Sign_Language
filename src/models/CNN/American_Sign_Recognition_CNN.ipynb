{
 "cells": [
  {
   "cell_type": "markdown",
   "id": "01bdce0f-f73a-4434-92c5-c3a3d13e37a8",
   "metadata": {},
   "source": [
    "# The first step is to import the required Librairies"
   ]
  },
  {
   "cell_type": "code",
   "execution_count": 61,
   "id": "f141b8e9-5529-43ff-85da-e2c4c1fcbb10",
   "metadata": {
    "tags": []
   },
   "outputs": [
    {
     "name": "stdout",
     "output_type": "stream",
     "text": [
      "the cell was executed without errors\n"
     ]
    }
   ],
   "source": [
    "\"\"\"pandas is a Python package that provides fast, flexible, and expressive data structures\n",
    "designed to make working with \"relational\" or \"labeled\" data both easy and intuitive.\"\"\"\n",
    "import pandas as pd\n",
    "\"\"\"NumPy is a Python library used for working with arrays.\n",
    "It also has functions for working in domain of linear algebra, fourier transform, and matrices.\"\"\"\n",
    "import numpy as np\n",
    "\n",
    "\"\"\"Matplotlib is a comprehensive library for creating static, animated, and interactive\n",
    "visualizations in Python. Matplotlib makes easy things easy and hard things possible.\"\"\"\n",
    "import  matplotlib.pyplot as plt \n",
    "\"\"\"OpenCV is the huge open-source library for the computer vision, machine learning, and image \n",
    "processing and now it plays a major role in real-time operation which is very important\n",
    "in today’s systems\"\"\"\n",
    "import cv2\n",
    "\"\"\"This module provides a portable way of using operating system dependent functionality. If you\n",
    "just want to read or write a file see open(), if you want to manipulate paths, see the os.path \n",
    "module, and if you want to read all the lines in all the files on the command line see the \n",
    "fileinput module\"\"\"\n",
    "import os\n",
    "\"\"\"The Python Imaging Library adds image processing capabilities to your Python interpreter.\n",
    "This library provides extensive file format support, an efficient internal representation, \n",
    "and fairly powerful image processing capabilities.\"\"\"\n",
    "from PIL import Image\n",
    "\"\"\"scikit-learn is a Python module for machine learning built on top of SciPy and is distributed\n",
    "under the 3-Clause BSD license.\"\"\"\n",
    "from sklearn.model_selection import train_test_split\n",
    "import matplotlib.pyplot as plt\n",
    "import numpy as np\n",
    "import itertools\n",
    "\"\"\"Tensorflow is one of the most-used deep-learning frameworks. It’s arguably the most popular\n",
    "machine learning platform on the web, with a broad range of users from those just starting out, \n",
    "to people looking for an edge in their careers and businesses. \"\"\"\n",
    "import tensorflow as tf \n",
    "from tensorflow.keras.utils import  to_categorical\n",
    "from tensorflow.keras.models import Sequential ,load_model\n",
    "from tensorflow.keras.layers import Conv2D,MaxPool2D,Dense ,Flatten,Dropout\n",
    "print('the cell was executed without errors')\n",
    "from tensorflow.keras.preprocessing.image import ImageDataGenerator\n",
    "from tensorflow.keras.applications.vgg16 import VGG16 \n",
    "from tensorflow.keras.applications.vgg19 import   VGG19\n",
    "#from keras.preprocessing.image import ImageDataGenerator\n",
    "\n",
    "from tensorflow.keras import layers, models, Model, optimizers\n",
    "from tensorflow.keras.optimizers import RMSprop,SGD,Adam\n",
    "from tensorflow.keras.callbacks import ModelCheckpoint, EarlyStopping, ReduceLROnPlateau"
   ]
  },
  {
   "cell_type": "markdown",
   "id": "421b393e-bbc0-4f8c-8b90-036e86400bc1",
   "metadata": {},
   "source": [
    "# We are going to load our Dataset"
   ]
  },
  {
   "cell_type": "code",
   "execution_count": 62,
   "id": "193efa82-451f-48e8-b22d-fb14eac408c2",
   "metadata": {
    "tags": []
   },
   "outputs": [
    {
     "name": "stdout",
     "output_type": "stream",
     "text": [
      "['A', 'B', 'C', 'D', 'del', 'E', 'F', 'G', 'H', 'I', 'J', 'K', 'L', 'M', 'N', 'nothing', 'O', 'P', 'Q', 'R', 'S', 'space', 'T', 'U', 'V', 'W', 'X', 'Y', 'Z']\n",
      "29\n"
     ]
    }
   ],
   "source": [
    "data_path=r\"C:\\Users\\kabir\\Desktop\\Projects\\American_Sign_Language\\data\\raw\\Data\\asl_alphabet_train\"\n",
    "#model.save(os.path.join(Path_model,\"Amazigh_Handwritten_Recognition_3.h5\"))\n",
    "categories=os.listdir(data_path)\n",
    "print(categories)\n",
    "number_Classes=len(categories)\n",
    "print(number_Classes)"
   ]
  },
  {
   "cell_type": "code",
   "execution_count": 63,
   "id": "6192345d-c5c0-4eed-8eb5-651aa24d9d45",
   "metadata": {},
   "outputs": [
    {
     "data": {
      "text/plain": [
       "\"\\nData['Classes']=Data['Classes'].astype(str)\\n\\ndummies =pd.get_dummies(Data['Classes'],drop_first=True).astype(int)\\nExamples=Data['Path']\\n\\nmerged = pd.concat([Examples,dummies],axis=1)\\nlabels=['A', 'B', 'C', 'D', 'del', 'E', 'F', 'G', 'H', 'I', 'J', 'K', 'L', 'M', 'N', 'nothing', 'O', 'P',\\n'Q', 'R', 'S', 'space', 'T', 'U', 'V', 'W', 'X', 'Y', 'Z']\\n29\\n\""
      ]
     },
     "execution_count": 63,
     "metadata": {},
     "output_type": "execute_result"
    }
   ],
   "source": [
    "\"\"\"\n",
    "Data['Classes']=Data['Classes'].astype(str)\n",
    "\n",
    "dummies =pd.get_dummies(Data['Classes'],drop_first=True).astype(int)\n",
    "Examples=Data['Path']\n",
    "\n",
    "merged = pd.concat([Examples,dummies],axis=1)\n",
    "labels=['A', 'B', 'C', 'D', 'del', 'E', 'F', 'G', 'H', 'I', 'J', 'K', 'L', 'M', 'N', 'nothing', 'O', 'P',\n",
    "'Q', 'R', 'S', 'space', 'T', 'U', 'V', 'W', 'X', 'Y', 'Z']\n",
    "29\n",
    "\"\"\"\n"
   ]
  },
  {
   "cell_type": "code",
   "execution_count": 70,
   "id": "1bc1a45f-672f-4e2e-8d10-82d17bb6123d",
   "metadata": {
    "tags": []
   },
   "outputs": [
    {
     "name": "stdout",
     "output_type": "stream",
     "text": [
      "Found 69600 images belonging to 29 classes.\n",
      "Found 17400 images belonging to 29 classes.\n",
      "the cell was executed without errors\n"
     ]
    }
   ],
   "source": [
    "train_datagen =  ImageDataGenerator(    rotation_range = 45,\n",
    "    rescale = 1./255,\n",
    "    zoom_range = 0.5,\n",
    "    height_shift_range = 0.15,\n",
    "    validation_split=0.2)  # val 20%\n",
    "\n",
    "val_datagen = ImageDataGenerator(rescale=1./255, validation_split=0.2)\n",
    "\n",
    "\n",
    "train_generator = train_datagen.flow_from_directory(data_path, \n",
    "                                               target_size=(60, 60), \n",
    "                                              color_mode='rgb',\n",
    "                                               batch_size=32, \n",
    "                                               class_mode='categorical',\n",
    "                                                shuffle=False,\n",
    "                                               subset = 'training') \n",
    "\n",
    "validation_generator = val_datagen.flow_from_directory(data_path, \n",
    "                                           target_size=(60, 60), \n",
    "                                           color_mode='rgb',\n",
    "                                           batch_size=32, \n",
    "                                           class_mode='categorical',\n",
    "                                           shuffle=True,\n",
    "\n",
    "                                           subset = 'validation')\n",
    "print('the cell was executed without errors')"
   ]
  },
  {
   "cell_type": "code",
   "execution_count": 71,
   "id": "1256ad6d-aad0-4b60-b85a-4ca380ef1609",
   "metadata": {
    "tags": []
   },
   "outputs": [
    {
     "name": "stdout",
     "output_type": "stream",
     "text": [
      "Model: \"sequential_8\"\n",
      "_________________________________________________________________\n",
      " Layer (type)                Output Shape              Param #   \n",
      "=================================================================\n",
      " conv2d_32 (Conv2D)          (None, 56, 56, 32)        2432      \n",
      "                                                                 \n",
      " conv2d_33 (Conv2D)          (None, 52, 52, 32)        25632     \n",
      "                                                                 \n",
      " max_pooling2d_16 (MaxPoolin  (None, 26, 26, 32)       0         \n",
      " g2D)                                                            \n",
      "                                                                 \n",
      " dropout_24 (Dropout)        (None, 26, 26, 32)        0         \n",
      "                                                                 \n",
      " conv2d_34 (Conv2D)          (None, 24, 24, 64)        18496     \n",
      "                                                                 \n",
      " conv2d_35 (Conv2D)          (None, 22, 22, 128)       73856     \n",
      "                                                                 \n",
      " max_pooling2d_17 (MaxPoolin  (None, 11, 11, 128)      0         \n",
      " g2D)                                                            \n",
      "                                                                 \n",
      " dropout_25 (Dropout)        (None, 11, 11, 128)       0         \n",
      "                                                                 \n",
      " flatten_8 (Flatten)         (None, 15488)             0         \n",
      "                                                                 \n",
      " dense_16 (Dense)            (None, 256)               3965184   \n",
      "                                                                 \n",
      " dropout_26 (Dropout)        (None, 256)               0         \n",
      "                                                                 \n",
      " dense_17 (Dense)            (None, 29)                7453      \n",
      "                                                                 \n",
      "=================================================================\n",
      "Total params: 4,093,053\n",
      "Trainable params: 4,093,053\n",
      "Non-trainable params: 0\n",
      "_________________________________________________________________\n",
      "the cell was executed without errors\n"
     ]
    }
   ],
   "source": [
    "\n",
    "model = Sequential()\n",
    "model.add(Conv2D(filters=32, kernel_size=(5,5), activation='relu', input_shape=(60,60,3)))\n",
    "model.add(Conv2D(filters=32, kernel_size=(5,5), activation='relu'))\n",
    "model.add(MaxPool2D(pool_size=(2, 2)))\n",
    "model.add(Dropout(rate=0.25))\n",
    "model.add(Conv2D(filters=64, kernel_size=(3, 3), activation='relu'))\n",
    "model.add(Conv2D(filters=128, kernel_size=(3, 3), activation='relu'))\n",
    "model.add(MaxPool2D(pool_size=(2, 2)))\n",
    "model.add(Dropout(rate=0.25))\n",
    "model.add(Flatten())\n",
    "model.add(Dense(256, activation='relu'))\n",
    "model.add(Dropout(rate=0.4))\n",
    "model.add(Dense(number_Classes, activation='softmax'))\n",
    "model.summary()\n",
    "print('the cell was executed without errors')"
   ]
  },
  {
   "cell_type": "code",
   "execution_count": 72,
   "id": "10079d64-a2c0-4fac-9a32-368d9158ebaf",
   "metadata": {
    "tags": []
   },
   "outputs": [],
   "source": [
    "Path_Weights=r\"C:\\Users\\kabir\\Desktop\\Projects\\American_Sign_Language\\models\\CNN\\Weights\"\n",
    "#//checking checkpoint for selecting the best model for the emotion detection and save the best model with minimum validation loss having the name written on it in the current working folder\n",
    "checkpoint = ModelCheckpoint(r\"C:\\Users\\kabir\\Desktop\\Projects\\American_Sign_Language\\models\\CNN\\Weights\\Weights_3.h5\",\n",
    "                             monitor='val_loss',\n",
    "                             mode='min',\n",
    "                             save_best_only=True,\n",
    "                             verbose=1)\n",
    "\n",
    "#//reduce_lr will also monitor the validation loss \n",
    "reduce_lr = ReduceLROnPlateau(monitor='val_loss',\n",
    "                              factor=0.1,\n",
    "                              patience=3,\n",
    "                              verbose=1,\n",
    "                              min_lr=.0000000001)\n",
    "#callb = [earlystop, checkpoint, reduce_lr]\n",
    "\n",
    "call=[ checkpoint,reduce_lr]"
   ]
  },
  {
   "cell_type": "code",
   "execution_count": 73,
   "id": "1f515242-7ca5-41e5-b7b8-f089245ed7ee",
   "metadata": {
    "tags": []
   },
   "outputs": [],
   "source": [
    "adam = Adam(learning_rate=.0001, beta_1=0.9, beta_2=0.999, epsilon=None, decay=0.0, amsgrad=False)\n",
    "model.compile(loss='categorical_crossentropy', optimizer=adam, metrics=['accuracy'])"
   ]
  },
  {
   "cell_type": "code",
   "execution_count": 74,
   "id": "8cf9df06-3f40-4f17-85f4-8fcb1e5a17d6",
   "metadata": {
    "tags": []
   },
   "outputs": [
    {
     "name": "stdout",
     "output_type": "stream",
     "text": [
      "1087.5\n"
     ]
    }
   ],
   "source": [
    "s=train_generator.n/64\n",
    "print(s)"
   ]
  },
  {
   "cell_type": "code",
   "execution_count": 75,
   "id": "fd63a59b-e6be-4e75-ae7e-1bd0dad6a6e3",
   "metadata": {
    "tags": []
   },
   "outputs": [
    {
     "name": "stdout",
     "output_type": "stream",
     "text": [
      "Epoch 1/10\n"
     ]
    },
    {
     "name": "stderr",
     "output_type": "stream",
     "text": [
      "C:\\Users\\kabir\\AppData\\Local\\Temp\\ipykernel_24116\\924399277.py:3: UserWarning: `Model.fit_generator` is deprecated and will be removed in a future version. Please use `Model.fit`, which supports generators.\n",
      "  history = model.fit_generator(generator=train_generator,steps_per_epoch=train_generator.n/batch_size, epochs=10\n"
     ]
    },
    {
     "name": "stdout",
     "output_type": "stream",
     "text": [
      "33/33 [==============================] - 3s 74ms/step - loss: 3.4066 - accuracy: 0.0423 - val_loss: 3.3674 - val_accuracy: 0.0347\n",
      "Epoch 2/10\n",
      "33/33 [==============================] - 2s 68ms/step - loss: 3.3463 - accuracy: 0.0441 - val_loss: 3.3713 - val_accuracy: 0.0382\n",
      "Epoch 3/10\n",
      "33/33 [==============================] - 2s 57ms/step - loss: 3.4015 - accuracy: 0.0046 - val_loss: 3.3671 - val_accuracy: 0.0382\n",
      "Epoch 4/10\n",
      "33/33 [==============================] - 2s 62ms/step - loss: 3.3616 - accuracy: 0.0285 - val_loss: 3.3666 - val_accuracy: 0.0278\n",
      "Epoch 5/10\n",
      "33/33 [==============================] - 2s 66ms/step - loss: 3.3711 - accuracy: 0.0404 - val_loss: 3.3689 - val_accuracy: 0.0278\n",
      "Epoch 6/10\n",
      "33/33 [==============================] - 2s 58ms/step - loss: 3.3700 - accuracy: 0.0248 - val_loss: 3.3676 - val_accuracy: 0.0243\n",
      "Epoch 7/10\n",
      "33/33 [==============================] - 2s 63ms/step - loss: 3.3686 - accuracy: 0.0506 - val_loss: 3.3668 - val_accuracy: 0.0347\n",
      "Epoch 8/10\n",
      "33/33 [==============================] - 2s 54ms/step - loss: 3.3627 - accuracy: 0.0634 - val_loss: 3.3684 - val_accuracy: 0.0243\n",
      "Epoch 9/10\n",
      "33/33 [==============================] - 2s 62ms/step - loss: 3.3717 - accuracy: 0.0561 - val_loss: 3.3683 - val_accuracy: 0.0278\n",
      "Epoch 10/10\n",
      "33/33 [==============================] - 2s 63ms/step - loss: 3.3682 - accuracy: 0.0496 - val_loss: 3.3682 - val_accuracy: 0.0312\n"
     ]
    }
   ],
   "source": [
    "\n",
    "batch_size=2048\n",
    "#//This last block of codes will train our codes with the given parameters where it will fit train generator for training epochs to 25, callbacks will call the earlystop, checkpoint and reduce_lr and validation data will be equal to validation generator which was created on the first execution \n",
    "history = model.fit_generator(generator=train_generator,steps_per_epoch=train_generator.n/batch_size, epochs=10\n",
    "                              ,validation_data=validation_generator,validation_steps=validation_generator.n/batch_size)"
   ]
  },
  {
   "cell_type": "code",
   "execution_count": 40,
   "id": "eaacacf5-bb1d-40d3-8815-94a3788a575f",
   "metadata": {
    "tags": []
   },
   "outputs": [
    {
     "data": {
      "image/png": "[encoded data removed]",
      "text/plain": [
       "<Figure size 640x480 with 1 Axes>"
      ]
     },
     "metadata": {},
     "output_type": "display_data"
    },
    {
     "data": {
      "image/png": "[encoded data removed]",
      "text/plain": [
       "<Figure size 640x480 with 1 Axes>"
      ]
     },
     "metadata": {},
     "output_type": "display_data"
    }
   ],
   "source": [
    "# summarize history for accuracy\n",
    "plt.plot(history.history['accuracy'])\n",
    "plt.plot(history.history['val_accuracy'])\n",
    "plt.title('model accuracy')\n",
    "plt.ylabel('accuracy')\n",
    "plt.xlabel('epoch')\n",
    "plt.legend(['Train', 'Validation'], loc='upper left')\n",
    "plt.savefig(r\"C:\\Users\\kabir\\Desktop\\Projects\\American_Sign_Language\\src\\visualization\\CNN\\Accuracy_1.png\")\n",
    "\n",
    "plt.show()\n",
    "# summarize history for loss\n",
    "plt.plot(history.history['loss'])\n",
    "plt.plot(history.history['val_loss'])\n",
    "plt.title('model loss')\n",
    "plt.ylabel('loss')\n",
    "plt.xlabel('epoch')\n",
    "plt.legend(['Train', 'Validation'], loc='upper left')\n",
    "plt.savefig(r\"C:\\Users\\kabir\\Desktop\\Projects\\American_Sign_Language\\src\\visualization\\CNN\\Loss_1.png\")\n",
    "\n",
    "plt.show()"
   ]
  },
  {
   "cell_type": "code",
   "execution_count": 41,
   "id": "7cae99f7-3359-4eac-8f79-46e00c9e0668",
   "metadata": {},
   "outputs": [],
   "source": [
    "Path_model=r\"C:\\Users\\kabir\\Desktop\\Projects\\American_Sign_Language\\models\\CNN\\models\"\n",
    "model.save(os.path.join(Path_model,\"American_signs_Recognition_1.h5\"))"
   ]
  },
  {
   "cell_type": "code",
   "execution_count": 42,
   "id": "237699b8-6faa-40ce-a10d-e933817dc9cc",
   "metadata": {
    "tags": []
   },
   "outputs": [
    {
     "name": "stdout",
     "output_type": "stream",
     "text": [
      "544/544 [==============================] - 58s 107ms/step\n"
     ]
    }
   ],
   "source": [
    "from keras.models import load_model\n",
    "#from sklearn.metrics import confusion_matrix\n",
    "from mlxtend.evaluate import confusion_matrix\n",
    "\n",
    "\n",
    "model = load_model(os.path.join(Path_model,\"American_signs_Recognition_1.h5\"))\n",
    "# Predict the test data using the trained model\n",
    "y_pred = model.predict(validation_generator)\n",
    "\n"
   ]
  },
  {
   "cell_type": "code",
   "execution_count": 43,
   "id": "f680c581-bac3-4bcd-a953-85a68e6a1064",
   "metadata": {
    "tags": []
   },
   "outputs": [
    {
     "name": "stdout",
     "output_type": "stream",
     "text": [
      "Confusion Matrix\n",
      "[[  0  43   0 157   0   0   2   3  22   0   0   1   0   0   2   1   7   0\n",
      "    2   1   6   0   0   0   0   1   0 352   0]\n",
      " [  0  45   0 168   0   1   2   8  24   0   0   3   0   0   1   6   8   0\n",
      "    4   4   4   0   0   0   2   0   0 320   0]\n",
      " [  0  43   0 148   0   0   6   4  10   0   0   5   0   0   0   3   7   0\n",
      "    5   1  10   0   0   0   1   0   0 357   0]\n",
      " [  0  49   0 143   0   0   0   2  11   0   0   6   0   0   0   0  10   0\n",
      "    3   2   4   0   0   0   1   0   1 368   0]\n",
      " [  0  61   0 142   0   0   0   3  10   0   0   5   0   0   0   2   6   0\n",
      "    7   0   3   0   0   0   0   0   0 361   0]\n",
      " [  0  52   0 156   0   0   1   6  20   0   0   4   0   0   1   4   9   0\n",
      "    3   1   9   0   0   0   0   0   0 334   0]\n",
      " [  0  58   0 154   0   0   7   0  23   0   0   6   0   0   1   6   4   0\n",
      "    1   2   2   0   0   0   0   0   0 336   0]\n",
      " [  0  53   0 142   0   0   5   5  20   0   0   6   0   0   4   4  17   0\n",
      "    1   0   3   0   1   0   1   0   0 338   0]\n",
      " [  1  51   0 155   0   1   6   8  22   0   0   2   0   0   1   1   3   0\n",
      "    3   3   6   0   1   0   0   0   2 334   0]\n",
      " [  0  45   0 137   0   0   1   2  22   0   0   4   0   0   0   3  12   0\n",
      "    2   3   5   0   0   0   0   0   0 364   0]\n",
      " [  0  58   0 154   0   0   2   4  11   0   0   5   0   0   0   1   8   0\n",
      "    4   1   1   0   0   0   0   0   0 351   0]\n",
      " [  0  53   0 129   0   0   4   6  16   0   0   6   0   0   0   3   5   0\n",
      "    3   0   6   0   0   0   1   0   1 367   0]\n",
      " [  0  56   0 135   0   0   1   3  20   0   0   6   0   0   2   1  11   0\n",
      "    5   3   6   0   0   0   0   0   1 350   0]\n",
      " [  0  52   0 151   0   0   2   3  17   0   0   7   0   0   1   5   7   0\n",
      "    3   2   5   0   0   0   0   0   1 344   0]\n",
      " [  0  65   0 153   0   0   2   2  11   0   0   6   0   0   1   3   5   0\n",
      "    2   1   9   0   0   0   0   0   0 340   0]\n",
      " [  1  63   0 128   0   0   4   6  17   0   0   6   0   0   1   5  11   0\n",
      "    7   2   6   0   1   0   0   0   0 342   0]\n",
      " [  0  51   0 126   0   0   0   3  11   0   0   9   0   0   1   4  13   0\n",
      "    2   0   4   0   0   0   0   0   0 374   2]\n",
      " [  0  51   0 154   0   0   6   6  15   0   0   5   0   0   1   4   8   0\n",
      "    0   0   6   0   1   0   0   0   0 343   0]\n",
      " [  1  37   0 143   0   0   5   1  18   0   0   4   0   0   1   1  12   0\n",
      "    5   0   3   0   0   0   2   1   0 366   0]\n",
      " [  0  61   0 143   0   0   3   3  18   0   0   4   0   0   3   3   8   0\n",
      "    3   3   3   0   0   0   1   0   0 344   0]\n",
      " [  0  43   0 176   0   0   1   7  13   0   0   6   0   0   0   5   6   0\n",
      "    3   0   5   0   0   0   0   0   0 333   2]\n",
      " [  0  62   0 132   0   0   1   1  21   0   0   3   0   0   1   2   9   0\n",
      "    1   1   3   0   1   0   0   0   0 362   0]\n",
      " [  0  48   0 152   0   0   1   4  13   0   0  14   0   0   0   4   7   0\n",
      "    3   0   4   0   0   0   1   0   0 349   0]\n",
      " [  0  43   0 165   0   1   3   5  12   0   0   6   0   0   1   3   5   0\n",
      "    1   2   4   0   0   1   2   1   0 345   0]\n",
      " [  1  56   0 153   0   0   1   3  19   0   0   3   0   0   1   1   6   0\n",
      "    4   5   2   0   0   0   0   0   1 344   0]\n",
      " [  0  65   0 131   0   0   1   4  22   0   0   6   0   0   1   3   7   0\n",
      "    4   3   4   0   1   0   1   1   1 344   1]\n",
      " [  0  58   0 148   0   0   2   7  20   0   0   2   0   0   0   1   8   0\n",
      "    6   2   4   0   0   0   0   0   0 342   0]\n",
      " [  0  58   0 147   0   0   1   3  19   0   0   5   0   0   2   2   6   0\n",
      "    1   3   2   0   0   0   0   0   0 351   0]\n",
      " [  0  51   0 143   0   0   3   5  16   0   0   1   0   0   0   2  11   0\n",
      "    2   0   8   0   0   0   0   0   0 358   0]]\n"
     ]
    }
   ],
   "source": [
    "#Confution Matrix and Classification Report\n",
    "target_names =['A', 'B', 'C', 'D', 'del', 'E', 'F', 'G', 'H', 'I', 'J', 'K', 'L', 'M', 'N', 'nothing', 'O', 'P',\n",
    "'Q', 'R', 'S', 'space', 'T', 'U', 'V', 'W', 'X', 'Y', 'Z']\n",
    "#print(classification_report(validation_generator.classes, y_pred, target_names=target_names))\n",
    "y_pred = np.argmax(y_pred, axis=1)\n",
    "print('Confusion Matrix')\n",
    "conf_matrix=confusion_matrix(validation_generator.classes, y_pred)\n",
    "print(conf_matrix)\n"
   ]
  },
  {
   "cell_type": "code",
   "execution_count": null,
   "id": "f5da333b-4429-4d7e-a642-e7ab68fcf9f5",
   "metadata": {
    "tags": []
   },
   "outputs": [],
   "source": [
    "from sklearn.metrics import classification_report\n",
    "\n",
    "print('Classification Report')\n",
    "\n",
    "print(classification_report(validation_generator.classes, y_pred, target_names=target_names))\n"
   ]
  },
  {
   "cell_type": "code",
   "execution_count": null,
   "id": "2c760d0e-7a0f-4fdf-bc26-64686228405c",
   "metadata": {
    "tags": []
   },
   "outputs": [],
   "source": [
    "import matplotlib.pyplot as plt\n",
    "import numpy as np\n",
    "import itertools\n",
    "def plot_confusion_matrix(cm, target_names, title='Confusion matrix', cmap=None, normalize=False):\n",
    "    \"\"\"\n",
    "    arguments\n",
    "    ---------\n",
    "    cm:           confusion matrix from sklearn.metrics.confusion_matrix\n",
    "\n",
    "    target_names: given classification classes such as [0, 1, 2]\n",
    "                  the class names, for example: ['high', 'medium', 'low']\n",
    "\n",
    "    title:        the text to display at the top of the matrix\n",
    "\n",
    "    cmap:         the gradient of the values displayed from matplotlib.pyplot.cm\n",
    "                  see http://matplotlib.org/examples/color/colormaps_reference.html\n",
    "\n",
    "    normalize:    If False, plot the raw numbers\n",
    "                  If True, plot the proportions\n",
    "    \"\"\"\n",
    "     \n",
    "    if cmap is None:\n",
    "        cmap = plt.get_cmap('YlGnBu')\n",
    "\n",
    "    plt.figure(figsize=(20, 20))\n",
    "    plt.imshow(cm, interpolation='nearest', cmap=cmap)\n",
    "    plt.title(title)\n",
    "    plt.colorbar()\n",
    "    \n",
    "    if target_names is not None:\n",
    "        tick_marks = np.arange(len(target_names))\n",
    "        plt.xticks(tick_marks, target_names, rotation=45)\n",
    "        plt.yticks(tick_marks, target_names)\n",
    "\n",
    "    if normalize:\n",
    "        cm = cm.astype('float') / cm.sum(axis=1)[:, np.newaxis]\n",
    "\n",
    "\n",
    "    thresh = cm.max() / 1.5 if normalize else cm.max() / 2\n",
    "    for i, j in itertools.product(range(cm.shape[0]), range(cm.shape[1])):\n",
    "        if normalize:\n",
    "            plt.text(j, i, \"{:0.4f}\".format(cm[i, j]),\n",
    "                     horizontalalignment=\"center\",\n",
    "                     color=\"white\" if cm[i, j] > thresh else \"black\")\n",
    "        else:\n",
    "            plt.text(j, i, \"{:,}\".format(cm[i, j]),\n",
    "                     horizontalalignment=\"center\",\n",
    "                     color=\"white\" if cm[i, j] > thresh else \"black\")\n",
    "\n",
    "\n",
    "    plt.tight_layout()\n",
    "    plt.ylim(len(target_names)-0.5, -0.5)\n",
    "    plt.ylabel('True labels')\n",
    "    plt.xlabel('Predicted labels')\n",
    "    #plt.savefig(r\"C:\\Users\\kabir\\Desktop\\Projects\\Amazigh_handwritten_character_recognition\\src\\visualization\\CNN\\Loss_3.png\")\n",
    "    plt.savefig(r\"C:\\Users\\kabir\\Desktop\\Projects\\American_Sign_Language\\src\\visualization\\CNN\\Confusion_matrix_1.png\", dpi=500, bbox_inches = 'tight')\n",
    "    plt.show()\n",
    "    \n",
    "from keras.models import load_model\n",
    "plot_confusion_matrix(conf_matrix, target_names)"
   ]
  },
  {
   "cell_type": "code",
   "execution_count": null,
   "id": "79500b16-2617-4b2f-a43c-7385477a0ade",
   "metadata": {},
   "outputs": [],
   "source": []
  }
 ],
 "metadata": {
  "kernelspec": {
   "display_name": "Python 3 (ipykernel)",
   "language": "python",
   "name": "python3"
  },
  "language_info": {
   "codemirror_mode": {
    "name": "ipython",
    "version": 3
   },
   "file_extension": ".py",
   "mimetype": "text/x-python",
   "name": "python",
   "nbconvert_exporter": "python",
   "pygments_lexer": "ipython3",
   "version": "3.9.17"
  }
 },
 "nbformat": 4,
 "nbformat_minor": 5
}
